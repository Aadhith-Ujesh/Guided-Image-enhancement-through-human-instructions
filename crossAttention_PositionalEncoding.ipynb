{
 "cells": [
  {
   "cell_type": "code",
   "execution_count": 1,
   "metadata": {},
   "outputs": [
    {
     "name": "stderr",
     "output_type": "stream",
     "text": [
      "c:\\Users\\ujesh\\AppData\\Local\\Programs\\Python\\Python310\\lib\\site-packages\\tqdm\\auto.py:22: TqdmWarning: IProgress not found. Please update jupyter and ipywidgets. See https://ipywidgets.readthedocs.io/en/stable/user_install.html\n",
      "  from .autonotebook import tqdm as notebook_tqdm\n"
     ]
    }
   ],
   "source": [
    "from transformers import BertTokenizer, BertModel\n",
    "import torch\n",
    "\n",
    "tokenizer = BertTokenizer.from_pretrained('bert-base-uncased')\n",
    "bert_model = BertModel.from_pretrained('bert-base-uncased')\n",
    "\n",
    "def get_bert_embeddings(text):\n",
    "    inputs = tokenizer(text, return_tensors=\"pt\", padding=True, truncation=True, max_length=512)\n",
    "    outputs = bert_model(**inputs)\n",
    "    # Obtain the embeddings by averaging the last hidden states\n",
    "    embeddings = outputs.last_hidden_state.mean(1)\n",
    "    return embeddings\n"
   ]
  },
  {
   "cell_type": "code",
   "execution_count": 3,
   "metadata": {},
   "outputs": [
    {
     "name": "stdout",
     "output_type": "stream",
     "text": [
      "torch.Size([1, 768])\n",
      "torch.Size([1, 64, 3])\n"
     ]
    }
   ],
   "source": [
    "import torch\n",
    "import torch.nn as nn\n",
    "import torch.nn.functional as F\n",
    "import numpy as np\n",
    "\n",
    "# Assuming your inputs\n",
    "text_embedding = get_bert_embeddings(\"The image contains rain near the subject, derain it\")  # [Batch, TextEmbeddingDim]\n",
    "latent_image = np.load(\"D:/FYP/latent_vector.npy\")  # [Batch, H, W, Channels]\n",
    "latent_vector_tensor = torch.from_numpy(latent_image)\n",
    "\n",
    "# Convert image to PyTorch's channel-first format and apply adaptive avg pooling\n",
    "latent_vector_tensor = latent_vector_tensor.permute(0, 3, 1, 2)  # [Batch, Channels, H, W]\n",
    "pooled_image = F.adaptive_avg_pool2d(latent_vector_tensor, (8, 8))  # Reduce spatial dimensions\n",
    "image_features = pooled_image.flatten(start_dim=2)  # [Batch, Channels, NewH*NewW]\n",
    "image_features = image_features.permute(0, 2, 1)  # Prepare for attention [Batch, SeqLen, Channels]\n",
    "\n",
    "print(text_embedding.shape)\n",
    "print(image_features.shape)\n"
   ]
  },
  {
   "cell_type": "code",
   "execution_count": 4,
   "metadata": {},
   "outputs": [
    {
     "name": "stdout",
     "output_type": "stream",
     "text": [
      "torch.Size([1, 64, 768])\n",
      "torch.Size([1, 64, 768])\n",
      "torch.Size([1, 64, 64])\n",
      "tensor([[[-0.3339, -1.0060, -0.7532,  ...,  0.3036, -0.1059, -0.2459],\n",
      "         [-0.3339, -1.0060, -0.7532,  ...,  0.3036, -0.1059, -0.2459],\n",
      "         [-0.3339, -1.0060, -0.7532,  ...,  0.3036, -0.1059, -0.2459],\n",
      "         ...,\n",
      "         [-0.3339, -1.0060, -0.7532,  ...,  0.3036, -0.1059, -0.2459],\n",
      "         [-0.3339, -1.0060, -0.7532,  ...,  0.3036, -0.1059, -0.2459],\n",
      "         [-0.3339, -1.0060, -0.7532,  ...,  0.3036, -0.1059, -0.2459]]],\n",
      "       grad_fn=<BmmBackward0>)\n",
      "torch.Size([1, 64, 768])\n"
     ]
    }
   ],
   "source": [
    "query = text_embedding.unsqueeze(0)  # Add sequence length dimension\n",
    "query.shape\n",
    "key_value = image_features\n",
    "key_value.shape\n",
    "\n",
    "# Step 1: Define a linear projection layer for tensor2\n",
    "projection_layer = nn.Linear(in_features=3, out_features=768)\n",
    "\n",
    "# Step 2: Apply the linear projection to tensor2\n",
    "# Reshape tensor2 to [64, 3] to apply linear projection, then reshape back to [1, 64, 768]\n",
    "tensor2_projected = projection_layer(key_value.view(-1, 3)).view(1, 64, 768)\n",
    "\n",
    "# Step 3: Expand tensor1 to match the sequence length of tensor2_projected\n",
    "tensor1_expanded = query.expand(-1, 64, -1)  # Size: [1, 64, 768]\n",
    "\n",
    "print(tensor1_expanded.shape)\n",
    "print(tensor2_projected.shape)\n",
    "\n",
    "query = tensor1_expanded\n",
    "key_value = tensor2_projected\n",
    "attention_scores = torch.bmm(tensor1_expanded, tensor2_projected.transpose(1, 2))\n",
    "print(attention_scores.shape)\n",
    "attention_weights = F.softmax(attention_scores, dim=-1)\n",
    "\n",
    "# Compute the weighted sum of values\n",
    "attention_output = torch.bmm(attention_weights, tensor2_projected)\n",
    "\n",
    "print(attention_output)\n",
    "print(attention_output.shape)"
   ]
  },
  {
   "cell_type": "code",
   "execution_count": 5,
   "metadata": {},
   "outputs": [
    {
     "name": "stdout",
     "output_type": "stream",
     "text": [
      "torch.Size([64, 1, 768])\n"
     ]
    },
    {
     "name": "stderr",
     "output_type": "stream",
     "text": [
      "c:\\Users\\ujesh\\AppData\\Local\\Programs\\Python\\Python310\\lib\\site-packages\\torch\\nn\\modules\\transformer.py:282: UserWarning: enable_nested_tensor is True, but self.use_nested_tensor is False because encoder_layer.self_attn.batch_first was not True(use batch_first for better inference performance)\n",
      "  warnings.warn(f\"enable_nested_tensor is True, but self.use_nested_tensor is False because {why_not_sparsity_fast_path}\")\n"
     ]
    }
   ],
   "source": [
    "import torch\n",
    "import torch.nn as nn\n",
    "import math\n",
    "\n",
    "class PositionalEncoding(nn.Module):\n",
    "    def __init__(self, d_model, dropout=0.1, max_len=5000):\n",
    "        super(PositionalEncoding, self).__init__()\n",
    "        self.dropout = nn.Dropout(p=dropout)\n",
    "\n",
    "        pe = torch.zeros(max_len, d_model)\n",
    "        position = torch.arange(0, max_len, dtype=torch.float).unsqueeze(1)\n",
    "        div_term = torch.exp(torch.arange(0, d_model, 2).float() * (-math.log(10000.0) / d_model))\n",
    "        pe[:, 0::2] = torch.sin(position * div_term)\n",
    "        pe[:, 1::2] = torch.cos(position * div_term)\n",
    "        pe = pe.unsqueeze(0).transpose(0, 1)\n",
    "        self.register_buffer('pe', pe)\n",
    "\n",
    "    def forward(self, x):\n",
    "        x = x + self.pe[:x.size(0), :]\n",
    "        return self.dropout(x)\n",
    "\n",
    "class TransformerEncoderModel(nn.Module):\n",
    "    def __init__(self, feature_size, nhead, nhid, nlayers, dropout=0.5):\n",
    "        super(TransformerEncoderModel, self).__init__()\n",
    "        self.pos_encoder = PositionalEncoding(feature_size, dropout)\n",
    "        encoder_layers = nn.TransformerEncoderLayer(d_model=feature_size, nhead=nhead, dim_feedforward=nhid, dropout=dropout)\n",
    "        self.transformer_encoder = nn.TransformerEncoder(encoder_layer=encoder_layers, num_layers=nlayers)\n",
    "        self.feature_size = feature_size\n",
    "\n",
    "    def forward(self, src):\n",
    "        src = src * math.sqrt(self.feature_size)\n",
    "        src = self.pos_encoder(src)\n",
    "        output = self.transformer_encoder(src)\n",
    "        return output\n",
    "\n",
    "# Parameters for the Transformer model\n",
    "feature_size = 768  # Feature size (embedding dimension)\n",
    "nhead = 8  # Number of heads in the multiheadattention models\n",
    "nhid = 768  # Dimension of the feedforward network model in nn.TransformerEncoder\n",
    "nlayers = 6  # Number of nn.TransformerEncoderLayer in nn.TransformerEncoder\n",
    "dropout = 0.2  # Dropout value\n",
    "\n",
    "model = TransformerEncoderModel(feature_size, nhead, nhid, nlayers, dropout)\n",
    "\n",
    "# Assuming input tensor is of shape [batch size, sequence length, features]\n",
    "input_tensor = attention_output\n",
    "\n",
    "# Transpose the input to match the expected format [sequence length, batch size, features]\n",
    "input_tensor_transposed = input_tensor.transpose(0, 1)  # Shape: [64, 1, 768]\n",
    "\n",
    "output = model(input_tensor_transposed)\n",
    "print(output.shape)  # Should be [64, 1, 768] (sequence length, batch size, features)\n"
   ]
  }
 ],
 "metadata": {
  "kernelspec": {
   "display_name": "Python 3",
   "language": "python",
   "name": "python3"
  },
  "language_info": {
   "codemirror_mode": {
    "name": "ipython",
    "version": 3
   },
   "file_extension": ".py",
   "mimetype": "text/x-python",
   "name": "python",
   "nbconvert_exporter": "python",
   "pygments_lexer": "ipython3",
   "version": "3.10.6"
  }
 },
 "nbformat": 4,
 "nbformat_minor": 2
}
